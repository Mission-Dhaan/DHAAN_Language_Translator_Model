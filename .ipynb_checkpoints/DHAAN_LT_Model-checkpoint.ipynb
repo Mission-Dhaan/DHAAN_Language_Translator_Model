{
 "cells": [
  {
   "cell_type": "markdown",
   "metadata": {},
   "source": [
    "# This code demonstrates the capability for doing the following:\n",
    "\n",
    "1. Text to Text Language translation by converting from English to Hindi\n",
    "2. Text to audio Language translation by converting from English to German\n"
   ]
  },
  {
   "cell_type": "code",
   "execution_count": 1,
   "metadata": {},
   "outputs": [],
   "source": [
    "#credentials for Language Translation \n",
    "\n",
    "apiKey = \"85F10cR61mJSFha9bnrEvGJ2jopIBKLKJnH_H6kygiKu\"\n",
    "url = \"https://api.eu-gb.language-translator.watson.cloud.ibm.com/instances/033994a0-07cc-4051-99db-1df755ff86fb\""
   ]
  },
  {
   "cell_type": "code",
   "execution_count": 2,
   "metadata": {},
   "outputs": [],
   "source": [
    "#Importing Dependencies\n",
    "from ibm_cloud_sdk_core.authenticators import IAMAuthenticator\n",
    "from ibm_watson import LanguageTranslatorV3"
   ]
  },
  {
   "cell_type": "code",
   "execution_count": 3,
   "metadata": {},
   "outputs": [],
   "source": [
    "#setting up the services\n",
    "\n",
    "authenticator = IAMAuthenticator(apiKey)\n",
    "lt = LanguageTranslatorV3(version='2018-05-01', authenticator=authenticator)\n",
    "lt.set_service_url(url)"
   ]
  },
  {
   "cell_type": "code",
   "execution_count": 4,
   "metadata": {},
   "outputs": [],
   "source": [
    "#translating from English to Hindi \n",
    "\n",
    "translation = lt.translate(text='The leaf condition is good', model_id='en-hi').get_result()\n",
    "\n",
    "#Eng to German ex: \n",
    "#translation = lt.translate(text='Welcome.', model_id='en-de').get_result()"
   ]
  },
  {
   "cell_type": "code",
   "execution_count": 5,
   "metadata": {},
   "outputs": [
    {
     "name": "stdout",
     "output_type": "stream",
     "text": [
      "{'translations': [{'translation': 'पत्ती की हालत अच्छी है'}], 'word_count': 5, 'character_count': 26}\n"
     ]
    }
   ],
   "source": [
    "print (translation)"
   ]
  },
  {
   "cell_type": "code",
   "execution_count": 6,
   "metadata": {},
   "outputs": [
    {
     "data": {
      "text/plain": [
       "'पत्ती की हालत अच्छी है'"
      ]
     },
     "execution_count": 6,
     "metadata": {},
     "output_type": "execute_result"
    }
   ],
   "source": [
    "#Extracting the needed info:\n",
    "\n",
    "translation['translations'][0]['translation']"
   ]
  },
  {
   "cell_type": "markdown",
   "metadata": {},
   "source": [
    "# Perfoming Language Translation and Text to Speech\n"
   ]
  },
  {
   "cell_type": "code",
   "execution_count": 8,
   "metadata": {},
   "outputs": [],
   "source": [
    "#Credentials for Text to Speech\n",
    "\n",
    "ttsapikey  = \"WEUGgt1b6VvQvKEnxpfSWDBu_8cjOTdl_g0RZ-xtSJSv\"\n",
    "ttsurl  = \"https://api.eu-de.text-to-speech.watson.cloud.ibm.com/instances/3ca40d3a-9ab8-49fe-86c4-607b175ffa15\""
   ]
  },
  {
   "cell_type": "code",
   "execution_count": 9,
   "metadata": {},
   "outputs": [],
   "source": [
    "from ibm_watson import TextToSpeechV1"
   ]
  },
  {
   "cell_type": "code",
   "execution_count": 10,
   "metadata": {},
   "outputs": [],
   "source": [
    "# Authenticate\n",
    "ttsauthenticator = IAMAuthenticator(ttsapikey)\n",
    "tts = TextToSpeechV1(authenticator=ttsauthenticator)\n",
    "tts.set_service_url(ttsurl)"
   ]
  },
  {
   "cell_type": "code",
   "execution_count": 11,
   "metadata": {},
   "outputs": [],
   "source": [
    "#English to German [as audio translation to Hindi is \"unavailable\" within IBM we are trying with another language ]\n",
    "\n",
    "translation = lt.translate(text='The leaf got a viral infection. Please take action', model_id='en-de').get_result()"
   ]
  },
  {
   "cell_type": "code",
   "execution_count": 12,
   "metadata": {},
   "outputs": [
    {
     "data": {
      "text/plain": [
       "{'translations': [{'translation': 'Das Blatt bekam eine Virusinfektion. Bitte handeln'}],\n",
       " 'word_count': 10,\n",
       " 'character_count': 50}"
      ]
     },
     "execution_count": 12,
     "metadata": {},
     "output_type": "execute_result"
    }
   ],
   "source": [
    "translation"
   ]
  },
  {
   "cell_type": "code",
   "execution_count": 13,
   "metadata": {},
   "outputs": [
    {
     "data": {
      "text/plain": [
       "'Das Blatt bekam eine Virusinfektion. Bitte handeln'"
      ]
     },
     "execution_count": 13,
     "metadata": {},
     "output_type": "execute_result"
    }
   ],
   "source": [
    "\n",
    "text = translation['translations'][0]['translation']\n",
    "text"
   ]
  },
  {
   "cell_type": "code",
   "execution_count": 14,
   "metadata": {},
   "outputs": [],
   "source": [
    "with open('./recommendation.mp3', 'wb') as audio_file:\n",
    "    res = tts.synthesize(text, accept='audio/mp3', voice='de-DE_BirgitV3Voice').get_result()\n",
    "    #res = tts.synthesize(text, accept='audio/mp3').get_result()\n",
    "    audio_file.write(res.content)"
   ]
  },
  {
   "cell_type": "markdown",
   "metadata": {},
   "source": [
    "# End"
   ]
  }
 ],
 "metadata": {
  "kernelspec": {
   "display_name": "Python 3",
   "language": "python",
   "name": "python3"
  },
  "language_info": {
   "codemirror_mode": {
    "name": "ipython",
    "version": 3
   },
   "file_extension": ".py",
   "mimetype": "text/x-python",
   "name": "python",
   "nbconvert_exporter": "python",
   "pygments_lexer": "ipython3",
   "version": "3.7.10"
  }
 },
 "nbformat": 4,
 "nbformat_minor": 4
}
